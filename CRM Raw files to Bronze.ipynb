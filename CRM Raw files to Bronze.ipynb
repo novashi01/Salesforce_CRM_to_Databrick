{
 "cells": [
  {
   "cell_type": "code",
   "execution_count": 0,
   "metadata": {
    "application/vnd.databricks.v1+cell": {
     "cellMetadata": {
      "byteLimit": 2048000,
      "rowLimit": 10000
     },
     "inputWidgets": {},
     "nuid": "0e52f2ec-1c0c-47a3-960a-b7e628597631",
     "showTitle": false,
     "tableResultSettingsMap": {},
     "title": ""
    }
   },
   "outputs": [],
   "source": [
    "# List all files in the specified directory\n",
    "files = dbutils.fs.ls('/Volumes/aitest/crm_bronze/crm_files')\n",
    "\n",
    "# Display the list of files\n",
    "for file in files:\n",
    "    print(file.path)"
   ]
  },
  {
   "cell_type": "code",
   "execution_count": 0,
   "metadata": {
    "application/vnd.databricks.v1+cell": {
     "cellMetadata": {},
     "inputWidgets": {},
     "nuid": "016f3c95-e58a-4b31-8130-788397463d52",
     "showTitle": false,
     "tableResultSettingsMap": {},
     "title": ""
    }
   },
   "outputs": [],
   "source": [
    "spark.table()"
   ]
  },
  {
   "cell_type": "code",
   "execution_count": 0,
   "metadata": {
    "application/vnd.databricks.v1+cell": {
     "cellMetadata": {
      "byteLimit": 2048000,
      "rowLimit": 10000
     },
     "inputWidgets": {},
     "nuid": "ddb65d1f-b41b-44e9-86b9-2ff9be9adab4",
     "showTitle": false,
     "tableResultSettingsMap": {},
     "title": ""
    }
   },
   "outputs": [
    {
     "output_type": "display_data",
     "data": {
      "text/plain": [
       "Databricks data profile. Run in Databricks to view."
      ]
     },
     "metadata": {
      "application/vnd.databricks.v1.subcommand+json": {
       "baseErrorDetails": null,
       "bindings": {},
       "collapsed": false,
       "command": "%python\nif hasattr(dbutils, \"data\") and hasattr(dbutils.data, \"summarize\"):\n  # setup\n  __data_summary_display_orig = display\n  __data_summary_dfs = []\n  def __data_summary_display_new(df):\n    # add only when result is going to be table type\n    __data_summary_df_modules = [\"pandas.core.frame\", \"databricks.koalas.frame\", \"pyspark.sql.dataframe\", \"pyspark.pandas.frame\", \"pyspark.sql.connect.dataframe\"]\n    if (type(df).__module__ in __data_summary_df_modules and type(df).__name__ == 'DataFrame') or isinstance(df, list):\n      __data_summary_dfs.append(df)\n  display = __data_summary_display_new\n\n  def __data_summary_user_code_fn():\n    import base64\n    exec(base64.standard_b64decode(\"IyBTdGVwIDE6IERlZmluZSB0aGUgZmlsZSBwYXRoIGNvcnJlY3RseQpmaWxlcyA9ICdkYmZzOi9Wb2x1bWVzL2FpdGVzdC9jcm1fYnJvbnplL2NybV9maWxlcy9EYXRhc2V0JwoKIyBTdGVwIDI6IFJlYWQgdGhlIENTViBmaWxlIGludG8gYSBEYXRhRnJhbWUKZGYgPSBzcGFyay5yZWFkLmZvcm1hdCgnY3N2JykgXAogICAgLm9wdGlvbignaGVhZGVyJywgJ3RydWUnKSBcCiAgICAub3B0aW9uKCdpbmZlclNjaGVtYScsICd0cnVlJykgXAogICAgLmxvYWQoZid7ZmlsZXN9L0FjY291bnQuY3N2JykKCiMgU3RlcCAzOiBEaXNwbGF5IHRoZSBEYXRhRnJhbWUKZGlzcGxheShkZik=\").decode())\n\n  try:\n    # run user code\n    __data_summary_user_code_fn()\n\n    # run on valid tableResultIndex\n    if len(__data_summary_dfs) > 0:\n      # run summarize\n      if type(__data_summary_dfs[0]).__module__ == \"databricks.koalas.frame\":\n        # koalas dataframe\n        dbutils.data.summarize(__data_summary_dfs[0].to_spark())\n      elif type(__data_summary_dfs[0]).__module__ == \"pandas.core.frame\":\n        # pandas dataframe\n        dbutils.data.summarize(spark.createDataFrame(__data_summary_dfs[0]))\n      else:\n        dbutils.data.summarize(__data_summary_dfs[0])\n    else:\n        displayHTML(\"dataframe no longer exists. If you're using dataframe.display(), use display(dataframe) instead.\")\n\n  finally:\n    display = __data_summary_display_orig\n    del __data_summary_display_new\n    del __data_summary_display_orig\n    del __data_summary_dfs\n    del __data_summary_user_code_fn\nelse:\n  print(\"This DBR version does not support data profiles.\")",
       "commandTitle": "Data Profile 1",
       "commandType": "auto",
       "commandVersion": 0,
       "commentThread": [],
       "commentsVisible": false,
       "contentSha256Hex": null,
       "customPlotOptions": {},
       "datasetPreviewNameToCmdIdMap": {},
       "diffDeletes": [],
       "diffInserts": [],
       "displayType": "table",
       "error": null,
       "errorDetails": null,
       "errorSummary": null,
       "errorTraceType": null,
       "finishTime": 1745277625723,
       "globalVars": {},
       "guid": "",
       "height": "auto",
       "hideCommandCode": false,
       "hideCommandResult": false,
       "iPythonMetadata": null,
       "inputWidgets": {},
       "isLockedInExamMode": false,
       "latestUser": "a user",
       "latestUserId": null,
       "listResultMetadata": [
        [
         "mimeBundle",
         null
        ]
       ],
       "metadata": {
        "byteLimit": 2048000,
        "rowLimit": 10000
       },
       "nuid": "19ea1c75-49ae-4c54-8f6e-10f64d0f83e0",
       "origId": 0,
       "parentHierarchy": [],
       "pivotAggregation": null,
       "pivotColumns": null,
       "position": 4.0,
       "resultDbfsErrorMessage": null,
       "resultDbfsStatus": "INLINED_IN_TREE",
       "results": null,
       "showCommandTitle": false,
       "startTime": 1745277618424,
       "state": "input",
       "streamStates": {},
       "subcommandOptions": null,
       "submitTime": 1745277618324,
       "subtype": "tableResultSubCmd.dataSummary",
       "tableResultIndex": 0,
       "tableResultSettingsMap": {},
       "useConsistentColors": false,
       "version": "CommandV1",
       "width": "auto",
       "workflows": null,
       "xColumns": null,
       "yColumns": null
      }
     },
     "output_type": "display_data"
    }
   ],
   "source": [
    "# Step 1: Define the file path correctly\n",
    "files = 'dbfs:/Volumes/aitest/crm_bronze/crm_files/Dataset'\n",
    "\n",
    "# Step 2: Read the CSV file into a DataFrame\n",
    "df = spark.read.format('csv') \\\n",
    "    .option('header', 'true') \\\n",
    "    .option('inferSchema', 'true') \\\n",
    "    .load(f'{files}/Account.csv')\n",
    "\n",
    "# Step 3: Display the DataFrame\n",
    "display(df)"
   ]
  },
  {
   "cell_type": "code",
   "execution_count": 0,
   "metadata": {
    "application/vnd.databricks.v1+cell": {
     "cellMetadata": {
      "byteLimit": 2048000,
      "rowLimit": 10000
     },
     "inputWidgets": {},
     "nuid": "ffccd12c-9b35-411b-87a9-3fb90996895c",
     "showTitle": false,
     "tableResultSettingsMap": {},
     "title": ""
    }
   },
   "outputs": [],
   "source": [
    "# Create a Delta Live Table from the DataFrame\n",
    "df.write.format('delta') \\\n",
    "    .option('mergeSchema', 'true') \\\n",
    "    .option('delta.columnMapping.mode', 'name') \\\n",
    "    .mode('overwrite') \\\n",
    "    .saveAsTable('crm_bronze.dlt_account')"
   ]
  },
  {
   "cell_type": "code",
   "execution_count": 0,
   "metadata": {
    "application/vnd.databricks.v1+cell": {
     "cellMetadata": {
      "byteLimit": 2048000,
      "implicitDf": true,
      "rowLimit": 10000
     },
     "inputWidgets": {},
     "nuid": "74534873-e6da-4cea-8687-ccc270ef8b15",
     "showTitle": false,
     "tableResultSettingsMap": {},
     "title": ""
    }
   },
   "outputs": [],
   "source": [
    "%sql select * from crm_bronze.dlt_account \n",
    "  order by `Last Activity` desc\n",
    "  limit 100;"
   ]
  },
  {
   "cell_type": "code",
   "execution_count": 0,
   "metadata": {
    "application/vnd.databricks.v1+cell": {
     "cellMetadata": {
      "byteLimit": 2048000,
      "rowLimit": 10000
     },
     "inputWidgets": {},
     "nuid": "90d389c3-7a84-4e55-a499-7349c6672fc5",
     "showTitle": false,
     "tableResultSettingsMap": {},
     "title": ""
    }
   },
   "outputs": [],
   "source": [
    "# Column descriptions to be added as comments in the table\n",
    "column_descriptions = {\n",
    "    \"Account Fax\": \"Fax number associated with the account\",\n",
    "    \"Account ID\": \"Unique identifier for each account\",\n",
    "    \"Account Name\": \"The name of the account\",\n",
    "    \"Account Number\": \"A unique number assigned to the account\",\n",
    "    \"Account Rating\": \"Rating assigned to the account based on some criteria\",\n",
    "    \"Account Site\": \"Location or site associated with the account\",\n",
    "    \"Account Type\": \"Type or category of the account\",\n",
    "    \"Application\": \"Application associated with the account\",\n",
    "    \"Billing City\": \"City for billing purposes\",\n",
    "    \"Billing Country\": \"Country for billing purposes\",\n",
    "    \"Billing Geocode Accuracy\": \"Accuracy level of the geocode associated with billing information\",\n",
    "    \"Billing State/Province\": \"State or province for billing purposes\",\n",
    "    \"Create in Zendesk\": \"Indicates whether the account was created in Zendesk\",\n",
    "    \"Created By ID\": \"Unique identifier of the user who created the account\",\n",
    "    \"Created Date\": \"Date and time when the account was created\",\n",
    "    \"Created Updated Flag\": \"Flag indicating whether the record was created or updated\",\n",
    "    \"Deleted\": \"Indicates whether the account is deleted\",\n",
    "    \"Domain Mapping\": \"Mapping of the domain associated with the account\",\n",
    "    \"Industry\": \"Industry type associated with the account\",\n",
    "    \"Is Demo Center\": \"Indicates whether the account is a demo center\",\n",
    "    \"Jigsaw Company ID\": \"Identifier associated with the Jigsaw company\",\n",
    "    \"Last Activity\": \"Date of the last activity associated with the account\",\n",
    "    \"Last Modified By ID\": \"Unique identifier of the user who last modified the account\",\n",
    "    \"Last Modified Date\": \"Date and time when the account was last modified\",\n",
    "    \"Last Referenced Date\": \"Date when the account was last referenced\",\n",
    "    \"Last Sync Date\": \"Date of the last synchronization\",\n",
    "    \"Last Sync Status\": \"Status of the last synchronization\",\n",
    "    \"Last Viewed Date\": \"Date when the account was last viewed\",\n",
    "    \"Lead Type\": \"Type of lead associated with the account\",\n",
    "    \"Life Science KeyAccount\": \"Indicates whether the account is a key account in life sciences\"\n",
    "}\n",
    "\n",
    "\n",
    "# Add column descriptions as comments\n",
    "for column, description in column_descriptions.items():\n",
    "    spark.sql(f\"ALTER TABLE crm_bronze.dlt_account CHANGE COLUMN `{column}` COMMENT '{description}'\")"
   ]
  },
  {
   "cell_type": "code",
   "execution_count": 0,
   "metadata": {
    "application/vnd.databricks.v1+cell": {
     "cellMetadata": {
      "byteLimit": 2048000,
      "rowLimit": 10000
     },
     "inputWidgets": {},
     "nuid": "6b89ccdf-c0be-44cd-a86b-74009472bf61",
     "showTitle": false,
     "tableResultSettingsMap": {},
     "title": ""
    }
   },
   "outputs": [
    {
     "output_type": "display_data",
     "data": {
      "text/plain": [
       "Databricks data profile. Run in Databricks to view."
      ]
     },
     "metadata": {
      "application/vnd.databricks.v1.subcommand+json": {
       "baseErrorDetails": null,
       "bindings": {},
       "collapsed": false,
       "command": "%python\nif hasattr(dbutils, \"data\") and hasattr(dbutils.data, \"summarize\"):\n  # setup\n  __data_summary_display_orig = display\n  __data_summary_dfs = []\n  def __data_summary_display_new(df):\n    # add only when result is going to be table type\n    __data_summary_df_modules = [\"pandas.core.frame\", \"databricks.koalas.frame\", \"pyspark.sql.dataframe\", \"pyspark.pandas.frame\", \"pyspark.sql.connect.dataframe\"]\n    if (type(df).__module__ in __data_summary_df_modules and type(df).__name__ == 'DataFrame') or isinstance(df, list):\n      __data_summary_dfs.append(df)\n  display = __data_summary_display_new\n\n  def __data_summary_user_code_fn():\n    import base64\n    exec(base64.standard_b64decode(\"IyBBZGQgTGVhZC5jc3YgdG8gZGYxCmRmMSA9IHNwYXJrLnJlYWQuZm9ybWF0KCdjc3YnKSBcCiAgICAub3B0aW9uKCdoZWFkZXInLCAndHJ1ZScpIFwKICAgIC5vcHRpb24oJ2luZmVyU2NoZW1hJywgJ3RydWUnKSBcCiAgICAubG9hZChmJ3tmaWxlc30vTGVhZC5jc3YnKQoKZGlzcGxheShkZjEp\").decode())\n\n  try:\n    # run user code\n    __data_summary_user_code_fn()\n\n    # run on valid tableResultIndex\n    if len(__data_summary_dfs) > 0:\n      # run summarize\n      if type(__data_summary_dfs[0]).__module__ == \"databricks.koalas.frame\":\n        # koalas dataframe\n        dbutils.data.summarize(__data_summary_dfs[0].to_spark())\n      elif type(__data_summary_dfs[0]).__module__ == \"pandas.core.frame\":\n        # pandas dataframe\n        dbutils.data.summarize(spark.createDataFrame(__data_summary_dfs[0]))\n      else:\n        dbutils.data.summarize(__data_summary_dfs[0])\n    else:\n        displayHTML(\"dataframe no longer exists. If you're using dataframe.display(), use display(dataframe) instead.\")\n\n  finally:\n    display = __data_summary_display_orig\n    del __data_summary_display_new\n    del __data_summary_display_orig\n    del __data_summary_dfs\n    del __data_summary_user_code_fn\nelse:\n  print(\"This DBR version does not support data profiles.\")",
       "commandTitle": "Data Profile 1",
       "commandType": "auto",
       "commandVersion": 0,
       "commentThread": [],
       "commentsVisible": false,
       "contentSha256Hex": null,
       "customPlotOptions": {},
       "datasetPreviewNameToCmdIdMap": {},
       "diffDeletes": [],
       "diffInserts": [],
       "displayType": "table",
       "error": null,
       "errorDetails": null,
       "errorSummary": null,
       "errorTraceType": null,
       "finishTime": 1745280301409,
       "globalVars": {},
       "guid": "",
       "height": "auto",
       "hideCommandCode": false,
       "hideCommandResult": false,
       "iPythonMetadata": null,
       "inputWidgets": {},
       "isLockedInExamMode": false,
       "latestUser": "a user",
       "latestUserId": null,
       "listResultMetadata": [
        [
         "mimeBundle",
         null
        ]
       ],
       "metadata": {
        "byteLimit": 2048000,
        "rowLimit": 10000
       },
       "nuid": "4e37b7a5-d27f-4566-97d5-f16cb3ca123f",
       "origId": 0,
       "parentHierarchy": [],
       "pivotAggregation": null,
       "pivotColumns": null,
       "position": 8.0,
       "resultDbfsErrorMessage": null,
       "resultDbfsStatus": "INLINED_IN_TREE",
       "results": null,
       "showCommandTitle": false,
       "startTime": 1745280292829,
       "state": "input",
       "streamStates": {},
       "subcommandOptions": null,
       "submitTime": 1745280292753,
       "subtype": "tableResultSubCmd.dataSummary",
       "tableResultIndex": 0,
       "tableResultSettingsMap": {},
       "useConsistentColors": false,
       "version": "CommandV1",
       "width": "auto",
       "workflows": null,
       "xColumns": null,
       "yColumns": null
      }
     },
     "output_type": "display_data"
    }
   ],
   "source": [
    "# Add Lead.csv to df1\n",
    "df1 = spark.read.format('csv') \\\n",
    "    .option('header', 'true') \\\n",
    "    .option('inferSchema', 'true') \\\n",
    "    .load(f'{files}/Lead.csv')\n",
    "\n",
    "display(df1)"
   ]
  },
  {
   "cell_type": "code",
   "execution_count": 0,
   "metadata": {
    "application/vnd.databricks.v1+cell": {
     "cellMetadata": {
      "byteLimit": 2048000,
      "rowLimit": 10000
     },
     "inputWidgets": {},
     "nuid": "2e8ac89a-0fe6-43a9-9a47-7e0c0e35f630",
     "showTitle": false,
     "tableResultSettingsMap": {},
     "title": ""
    }
   },
   "outputs": [],
   "source": [
    "# Create a Delta Live Table from the DataFrame\n",
    "df1.write.format('delta') \\\n",
    "    .option('mergeSchema', 'true') \\\n",
    "    .option('delta.columnMapping.mode', 'name') \\\n",
    "    .mode('overwrite') \\\n",
    "    .saveAsTable('crm_bronze.dlt_lead')"
   ]
  },
  {
   "cell_type": "code",
   "execution_count": 0,
   "metadata": {
    "application/vnd.databricks.v1+cell": {
     "cellMetadata": {
      "byteLimit": 2048000,
      "implicitDf": true,
      "rowLimit": 10000
     },
     "inputWidgets": {},
     "nuid": "95bb68f7-8416-401a-879e-54a43033a0bb",
     "showTitle": false,
     "tableResultSettingsMap": {},
     "title": ""
    }
   },
   "outputs": [],
   "source": [
    "%sql select * from crm_bronze.dlt_lead limit 100;"
   ]
  },
  {
   "cell_type": "code",
   "execution_count": 0,
   "metadata": {
    "application/vnd.databricks.v1+cell": {
     "cellMetadata": {
      "byteLimit": 2048000,
      "rowLimit": 10000
     },
     "inputWidgets": {},
     "nuid": "c8e84441-9eae-48c5-942f-8b557f5c2d87",
     "showTitle": false,
     "tableResultSettingsMap": {},
     "title": ""
    }
   },
   "outputs": [],
   "source": [
    "# Add comments to dlt_lead columns\n",
    "column_descriptions = {\n",
    "    \"Alyssa has been Notified\": \"Indicates whether Alyssa has been notified\",\n",
    "    \"Auto Convert All Leads From This Company\": \"Automatically convert all leads from this company\",\n",
    "    \"Bio Reactors used\": \"Information about the bio reactors used\",\n",
    "    \"Cell Culture Media\": \"Type of cell culture media used\",\n",
    "    \"Cell Type\": \"Type of cell\",\n",
    "    \"City\": \"City of the lead or account\",\n",
    "    \"Companion Lead\": \"Indicates if its a companion lead\",\n",
    "    \"Converted\": \"Indicates if the lead has been converted\",\n",
    "    \"Converted Account ID\": \"ID of the converted account\",\n",
    "    \"Converted Opportunity ID\": \"ID of the converted opportunity\",\n",
    "    \"Country\": \"Country of the lead or account\",\n",
    "    \"Create in Zendesk\": \"Indicates whether the lead was created in Zendesk\",\n",
    "    \"Created By eContacts\": \"User who created the lead in eContacts\",\n",
    "    \"Created Date\": \"Date and time when the lead was created\",\n",
    "    \"Dead Reason\": \"Reason for marking the lead as dead\",\n",
    "    \"Email Opt Out\": \"Indicates if the lead has opted out of email communications\",\n",
    "    \"Google Analytics Campaign\": \"Campaign information from Google Analytics\",\n",
    "    \"Google Analytics Content\": \"Content information from Google Analytics\",\n",
    "    \"Google Analytics Medium\": \"Medium information from Google Analytics\",\n",
    "    \"Google Analytics Source\": \"Source information from Google Analytics\",\n",
    "    \"Google Analytics Term\": \"Term information from Google Analytics\",\n",
    "    \"Incompatible MS Details\": \"Details about compatibility with Microsoft\",\n",
    "    \"Industry\": \"Industry associated with the lead\",\n",
    "    \"isCreatedUpdatedFlag\": \"Flag indicating if the lead has been created or updated\",\n",
    "    \"Key Account\": \"Indicates if the lead is a key account\",\n",
    "    \"Last Status Change\": \"Date of the last status change for the lead\",\n",
    "    \"Last Sync Date\": \"Date of the last synchronization\",\n",
    "    \"Last Sync Status\": \"Status of the last synchronization\",\n",
    "    \"Lead Application\": \"Application associated with the lead\",\n",
    "    \"Lead ID\": \"Unique identifier for each lead\",\n",
    "    \"Lead Source\": \"Source through which the lead was acquired\",\n",
    "    \"Lead Status at Conversion\": \"Lead status at the time of conversion\",\n",
    "    \"Lead Status Automation Override\": \"Override for lead status automation\",\n",
    "    \"Lead Type\": \"Type or category of the lead\",\n",
    "    \"LeadConSource\": \"Source of the lead conversion\",\n",
    "    \"LeadRecordType\": \"Record type associated with the lead\",\n",
    "    \"Location Text\": \"Textual description of the location\",\n",
    "    \"LS Other Research Area\": \"Other research area in life sciences\",\n",
    "    \"LS Research Area\": \"Research area in life sciences\",\n",
    "    \"LS Team Notified\": \"Indicates whether the life sciences team has been notified\",\n",
    "    \"Marketing Segmentation\": \"Segmentation information for marketing purposes\",\n",
    "    \"Mass Spec Manufacturer\": \"Manufacturer of the mass spectrometer\",\n",
    "    \"Mass Spec Type\": \"Type of mass spectrometer\",\n",
    "    \"Media Provider\": \"Provider of the media\",\n",
    "    \"Needs Score Synced\": \"Indicates if the score needs to be synced\",\n",
    "    \"Next_Step__c (Leads)\": \"Next step in the lead process\",\n",
    "    \"Notes\": \"Additional notes or comments\",\n",
    "    \"Opted Out of Email\": \"Indicates if the lead has opted out of email communications\",\n",
    "    \"Organization\": \"Organization associated with the lead\",\n",
    "    \"Other Application\": \"Other application associated with the lead\",\n",
    "    \"Other Dead Reason\": \"Other reason for marking the lead as dead\",\n",
    "    \"Other Mass Spec Type\": \"Other type of mass spectrometer\",\n",
    "    \"Other Research Area\": \"Other research area\",\n",
    "    \"Pardot Conversion Date\": \"Date of conversion in Pardot\",\n",
    "    \"Pardot Conversion Object Type\": \"Object type of conversion in Pardot\",\n",
    "    \"Pardot Created Date\": \"Date when the lead was created in Pardot\",\n",
    "    \"Pardot First Activity\": \"Date of the first activity recorded in Pardot\",\n",
    "    \"Pardot First Referrer Query\": \"Referrer query for the first visit in Pardot\",\n",
    "    \"Pardot First Referrer Type\": \"Referrer type for the first visit in Pardot\",\n",
    "    \"Pardot Grade\": \"Grade assigned in Pardot\",\n",
    "    \"Pardot Hard Bounced\": \"Indicates if the lead has hard bounced in Pardot\",\n",
    "    \"Pardot Last Activity\": \"Date of the last activity recorded in Pardot\",\n",
    "    \"Pardot Last Scored At\": \"Date when the lead was last scored in Pardot\",\n",
    "    \"Pre-Act-on Working Lead\": \"Indicates if the lead is a pre-Act-on working lead\",\n",
    "    \"Primary Application\": \"Primary application associated with the lead\",\n",
    "    \"Product Category\": \"Category of the product\",\n",
    "    \"Record Type ID\": \"Unique identifier for the record type\",\n",
    "    \"Region\": \"Region associated with the lead\",\n",
    "    \"Research Area\": \"Main research area of interest\",\n",
    "    \"Secondary Application\": \"Secondary application associated with the lead\",\n",
    "    \"Secondary Email\": \"Secondary email address\",\n",
    "    \"SS Team Notified\": \"Indicates whether the social sciences team has been notified\",\n",
    "    \"State/Province\": \"State or province of the lead or account\",\n",
    "    \"Status\": \"Current status of the lead\",\n",
    "    \"Status (Simplified)\": \"Simplified status of the lead\",\n",
    "    \"Trained\": \"Indicates if the lead has been trained\",\n",
    "    \"Web Form Applications\": \"Applications from web forms\",\n",
    "    \"Web Lead Notification Sent\": \"Indicates if a notification has been sent for a web lead\",\n",
    "    \"Zendesk Result\": \"Result in Zendesk\",\n",
    "    \"Zendesk User Id\": \"User ID in Zendesk\",\n",
    "    \"Zendesk_OutofSync\": \"Indicates if the lead is out of sync in Zendesk\",\n",
    "    \"# Converted Accounts\": \"Number of converted accounts\",\n",
    "    \"# Converted Opportunities\": \"Number of converted opportunities\",\n",
    "    \"Campaign Membership Count\": \"Count of campaign memberships\",\n",
    "    \"Conversion Rate\": \"Rate of lead conversion\",\n",
    "    \"Lead Score\": \"Score assigned to the lead\",\n",
    "    \"Lead Score1\": \"Another score assigned to the lead\",\n",
    "    \"Location (Latitude)\": \"Latitude of the location\",\n",
    "    \"Location (Longitude)\": \"Longitude of the location\",\n",
    "    \"Number of Records\": \"Number of records associated with the lead\",\n",
    "    \"Pardot Score\": \"Score assigned in Pardot\",\n",
    "    \"Population Density\": \"Density of the population\",\n",
    "    \"Total Leads\": \"Total number of leads\"\n",
    "}\n",
    "\n",
    "for column, description in column_descriptions.items():\n",
    "    spark.sql(f\"ALTER TABLE crm_bronze.dlt_lead CHANGE COLUMN `{column}` COMMENT '{description}'\")"
   ]
  },
  {
   "cell_type": "code",
   "execution_count": 0,
   "metadata": {
    "application/vnd.databricks.v1+cell": {
     "cellMetadata": {
      "byteLimit": 2048000,
      "rowLimit": 10000
     },
     "inputWidgets": {},
     "nuid": "b66b9bb6-77ef-4fa2-98f8-b4e67e660e66",
     "showTitle": false,
     "tableResultSettingsMap": {},
     "title": ""
    }
   },
   "outputs": [
    {
     "output_type": "display_data",
     "data": {
      "text/plain": [
       "Databricks data profile. Run in Databricks to view."
      ]
     },
     "metadata": {
      "application/vnd.databricks.v1.subcommand+json": {
       "baseErrorDetails": null,
       "bindings": {},
       "collapsed": false,
       "command": "%python\nif hasattr(dbutils, \"data\") and hasattr(dbutils.data, \"summarize\"):\n  # setup\n  __data_summary_display_orig = display\n  __data_summary_dfs = []\n  def __data_summary_display_new(df):\n    # add only when result is going to be table type\n    __data_summary_df_modules = [\"pandas.core.frame\", \"databricks.koalas.frame\", \"pyspark.sql.dataframe\", \"pyspark.pandas.frame\", \"pyspark.sql.connect.dataframe\"]\n    if (type(df).__module__ in __data_summary_df_modules and type(df).__name__ == 'DataFrame') or isinstance(df, list):\n      __data_summary_dfs.append(df)\n  display = __data_summary_display_new\n\n  def __data_summary_user_code_fn():\n    import base64\n    exec(base64.standard_b64decode(\"IyBBZGQgT3Bwb3J0dW5pdHkuY3N2IHRvIGRmMgpkZjIgPSBzcGFyay5yZWFkLmZvcm1hdCgnY3N2JykgXAogICAgLm9wdGlvbignaGVhZGVyJywgJ3RydWUnKSBcCiAgICAub3B0aW9uKCdpbmZlclNjaGVtYScsICd0cnVlJykgXAogICAgLmxvYWQoZid7ZmlsZXN9L09wcG9ydHVuaXR5X1RhYmxlLmNzdicpCgpkaXNwbGF5KGRmMik=\").decode())\n\n  try:\n    # run user code\n    __data_summary_user_code_fn()\n\n    # run on valid tableResultIndex\n    if len(__data_summary_dfs) > 0:\n      # run summarize\n      if type(__data_summary_dfs[0]).__module__ == \"databricks.koalas.frame\":\n        # koalas dataframe\n        dbutils.data.summarize(__data_summary_dfs[0].to_spark())\n      elif type(__data_summary_dfs[0]).__module__ == \"pandas.core.frame\":\n        # pandas dataframe\n        dbutils.data.summarize(spark.createDataFrame(__data_summary_dfs[0]))\n      else:\n        dbutils.data.summarize(__data_summary_dfs[0])\n    else:\n        displayHTML(\"dataframe no longer exists. If you're using dataframe.display(), use display(dataframe) instead.\")\n\n  finally:\n    display = __data_summary_display_orig\n    del __data_summary_display_new\n    del __data_summary_display_orig\n    del __data_summary_dfs\n    del __data_summary_user_code_fn\nelse:\n  print(\"This DBR version does not support data profiles.\")",
       "commandTitle": "Data Profile 1",
       "commandType": "auto",
       "commandVersion": 0,
       "commentThread": [],
       "commentsVisible": false,
       "contentSha256Hex": null,
       "customPlotOptions": {},
       "datasetPreviewNameToCmdIdMap": {},
       "diffDeletes": [],
       "diffInserts": [],
       "displayType": "table",
       "error": null,
       "errorDetails": null,
       "errorSummary": null,
       "errorTraceType": null,
       "finishTime": 1745282607996,
       "globalVars": {},
       "guid": "",
       "height": "auto",
       "hideCommandCode": false,
       "hideCommandResult": false,
       "iPythonMetadata": null,
       "inputWidgets": {},
       "isLockedInExamMode": false,
       "latestUser": "a user",
       "latestUserId": null,
       "listResultMetadata": [
        [
         "mimeBundle",
         null
        ]
       ],
       "metadata": {
        "byteLimit": 2048000,
        "rowLimit": 10000
       },
       "nuid": "dae446b9-f891-47c3-b584-e39b02940913",
       "origId": 0,
       "parentHierarchy": [],
       "pivotAggregation": null,
       "pivotColumns": null,
       "position": 10.5,
       "resultDbfsErrorMessage": null,
       "resultDbfsStatus": "INLINED_IN_TREE",
       "results": null,
       "showCommandTitle": false,
       "startTime": 1745282600415,
       "state": "input",
       "streamStates": {},
       "subcommandOptions": null,
       "submitTime": 1745282600330,
       "subtype": "tableResultSubCmd.dataSummary",
       "tableResultIndex": 0,
       "tableResultSettingsMap": {},
       "useConsistentColors": false,
       "version": "CommandV1",
       "width": "auto",
       "workflows": null,
       "xColumns": null,
       "yColumns": null
      }
     },
     "output_type": "display_data"
    }
   ],
   "source": [
    "# Add Opportunity_Table.csv to df2\n",
    "df2 = spark.read.format('csv') \\\n",
    "    .option('header', 'true') \\\n",
    "    .option('inferSchema', 'true') \\\n",
    "    .load(f'{files}/Opportunity_Table.csv')\n",
    "\n",
    "display(df2)"
   ]
  },
  {
   "cell_type": "code",
   "execution_count": 0,
   "metadata": {
    "application/vnd.databricks.v1+cell": {
     "cellMetadata": {
      "byteLimit": 2048000,
      "rowLimit": 10000
     },
     "inputWidgets": {},
     "nuid": "bffc25dc-d6dc-4b76-95ea-c8dfceb95684",
     "showTitle": false,
     "tableResultSettingsMap": {},
     "title": ""
    }
   },
   "outputs": [],
   "source": [
    "# Create a Delta Live Table from the DataFrame\n",
    "df2.write.format('delta') \\\n",
    "    .option('mergeSchema', 'true') \\\n",
    "    .option('delta.columnMapping.mode', 'name') \\\n",
    "    .mode('overwrite') \\\n",
    "    .saveAsTable('crm_bronze.dlt_opportunityTable')"
   ]
  },
  {
   "cell_type": "code",
   "execution_count": 0,
   "metadata": {
    "application/vnd.databricks.v1+cell": {
     "cellMetadata": {
      "byteLimit": 2048000,
      "rowLimit": 10000
     },
     "inputWidgets": {},
     "nuid": "66a006a6-ecaf-41ec-962c-5120c39f5b40",
     "showTitle": false,
     "tableResultSettingsMap": {},
     "title": ""
    }
   },
   "outputs": [],
   "source": [
    "column_descriptions = {\n",
    "    \"Account ID\": \"Unique identifier for each account\",\n",
    "    \"Backlog Rev\": \"Backlog revenue for the opportunity\",\n",
    "    \"Bio Reactors used\": \"Information about the bio reactors used\",\n",
    "    \"BM Test\": \"Information about the BM test\",\n",
    "    \"Campaign ID\": \"Identifier for the associated marketing campaign\",\n",
    "    \"Cell Culture Media\": \"Type of cell culture media used\",\n",
    "    \"Cell Type\": \"Type of cell\",\n",
    "    \"Close Date\": \"Date when the opportunity was closed\",\n",
    "    \"Closed\": \"Indicates if the opportunity is closed\",\n",
    "    \"Closed Lost Reason\": \"Reason for closing the opportunity as lost\",\n",
    "    \"Competitive Product Details\": \"Details about competitive products\",\n",
    "    \"Contact ID\": \"Unique identifier for the associated contact\",\n",
    "    \"COVID Notes\": \"Notes related to COVID\",\n",
    "    \"COVID Status\": \"Status related to COVID\",\n",
    "    \"Created By ID\": \"Unique identifier of the user who created the opportunity\",\n",
    "    \"Created by Lead Conversion\": \"Indicates if the opportunity was created by lead conversion\",\n",
    "    \"Created Date\": \"Date and time when the opportunity was created\",\n",
    "    \"Date Opportunity was Closed\": \"Date when the opportunity was closed\",\n",
    "    \"Deleted\": \"Indicates if the opportunity is deleted\",\n",
    "    \"DOR Distributor\": \"Distributor associated with DOR\",\n",
    "    \"DOR Expiration\": \"Expiration date of DOR distributor\",\n",
    "    \"Final Quote\": \"Indicates if a final quote is available for the opportunity\",\n",
    "    \"Fiscal Period\": \"Fiscal period associated with the opportunity\",\n",
    "    \"Fiscal Quarter\": \"Fiscal quarter associated with the opportunity\",\n",
    "    \"Fiscal Year\": \"Fiscal year associated with the opportunity\",\n",
    "    \"Forecast Category\": \"Forecast category for the opportunity\",\n",
    "    \"Forecast Category1\": \"Another forecast category for the opportunity\",\n",
    "    \"Forecast Q Commit\": \"Forecast commitment for the quarter\",\n",
    "    \"Forecast Q Prior Commit\": \"Prior forecast commitment for the quarter\",\n",
    "    \"Funding Source\": \"Source of funding for the opportunity\",\n",
    "    \"Has Line Item\": \"Indicates if the opportunity has a line item\",\n",
    "    \"Has Open Activity\": \"Indicates if there is an open activity related to the opportunity\",\n",
    "    \"Has Overdue Task\": \"Indicates if there is an overdue task related to the opportunity\",\n",
    "    \"Industry\": \"Industry associated with the opportunity\",\n",
    "    \"Install This Quarter\": \"Indicates if the opportunity is scheduled for installation this quarter\",\n",
    "    \"Interface Type\": \"Type of interface for the opportunity\",\n",
    "    \"Internal Forecast\": \"Indicates if the forecast is internal\",\n",
    "    \"Last Activity\": \"Date of the last activity related to the opportunity\",\n",
    "    \"Last Modified By ID\": \"Unique identifier of the user who last modified the opportunity\",\n",
    "    \"Last Modified Date\": \"Date and time when the opportunity was last modified\",\n",
    "    \"Last Referenced Date\": \"Date when the opportunity was last referenced\",\n",
    "    \"Last Stage Change Date\": \"Date of the last stage change for the opportunity\",\n",
    "    \"Last Stage Change Date1\": \"Another date of the last stage change for the opportunity\",\n",
    "    \"Last Viewed Date\": \"Date when the opportunity was last viewed\",\n",
    "    \"LDO\": \"LDO associated with the opportunity\",\n",
    "    \"LDO Priority Level\": \"Priority level of the LDO\",\n",
    "    \"Lead Application\": \"Application associated with the lead\",\n",
    "    \"Lead Source\": \"Source through which the lead was acquired\",\n",
    "    \"LS Other Research Area\": \"Other research area in life sciences\",\n",
    "    \"LS Research Area\": \"Research area in life sciences\",\n",
    "    \"Mass Spec Manufacturer\": \"Manufacturer of the mass spectrometer\",\n",
    "    \"Mass Spec Type\": \"Type of mass spectrometer\",\n",
    "    \"Media Provider\": \"Provider of the media\",\n",
    "    \"Opportunity ID\": \"Unique identifier for each opportunity\",\n",
    "    \"Opportunity Type\": \"Type or category of the opportunity\",\n",
    "    \"Order Finalized\": \"Indicates if the order is finalized\",\n",
    "    \"Other Closed Lost Details\": \"Additional details for closed lost opportunities\",\n",
    "    \"Other Mass Spec Type\": \"Other type of mass spectrometer\",\n",
    "    \"Other Research Area\": \"Other research area\",\n",
    "    \"Owner ID\": \"Unique identifier of the owner of the opportunity\",\n",
    "    \"Price Book ID\": \"Identifier of the associated price book\",\n",
    "    \"Primary Application\": \"Primary application associated with the opportunity\",\n",
    "    \"Primary Application (FF)\": \"Another primary application associated with the opportunity\",\n",
    "    \"Primary Contact\": \"Primary contact associated with the opportunity\",\n",
    "    \"Product Category\": \"Category of the product\",\n",
    "    \"Product of Interest\": \"Product of interest for the opportunity\",\n",
    "    \"Purchase Agent\": \"Agent responsible for the purchase of the opportunity\",\n",
    "    \"Quote ID\": \"Unique identifier for the associated quote\",\n",
    "    \"Record Type ID\": \"Unique identifier for the record type of the opportunity\",\n",
    "    \"Registered Vendor (confirmed)\": \"Indicates if the vendor is confirmed as registered\",\n",
    "    \"Secondary Application (FF)\": \"Another secondary application associated with the opportunity\",\n",
    "    \"Ship This Quarter\": \"Indicates if the opportunity is scheduled to ship this quarter\",\n",
    "    \"Ship This Quarter List\": \"List of opportunities scheduled to ship this quarter\",\n",
    "    \"Signing Authority\": \"Authority responsible for signing the opportunity\",\n",
    "    \"Stage\": \"Current stage of the opportunity\",\n",
    "    \"Standard Application\": \"Standard application associated with the opportunity\",\n",
    "    \"System Modstamp\": \"Date and time of the last system modification for the opportunity\",\n",
    "    \"Technical Owner\": \"Technical owner of the opportunity\",\n",
    "    \"Training Date\": \"Date of training related to the opportunity\",\n",
    "    \"Validated Customer Needs\": \"Indicates if the customer needs are validated\",\n",
    "    \"Won\": \"Indicates if the opportunity is won\",\n",
    "    \"# Close Date Extensions\": \"Number of times the close date has been extended\",\n",
    "    \"# Close Date Month Extensions\": \"Number of months the close date has been extended\",\n",
    "    \"Amount\": \"Amount associated with the opportunity\",\n",
    "    \"Days Open\": \"Number of days the opportunity has been open\",\n",
    "    \"Expected Amount\": \"Expected amount for the opportunity\",\n",
    "    \"Probability (%)\": \"Probability of winning the opportunity\",\n",
    "    \"Push Count\": \"Count of pushes for the opportunity\"\n",
    "}\n",
    "\n",
    "for column, description in column_descriptions.items():\n",
    "    spark.sql(f\"ALTER TABLE crm_bronze.dlt_opportunityTable CHANGE COLUMN `{column}` COMMENT '{description}'\")"
   ]
  },
  {
   "cell_type": "code",
   "execution_count": 0,
   "metadata": {
    "application/vnd.databricks.v1+cell": {
     "cellMetadata": {
      "byteLimit": 2048000,
      "rowLimit": 10000
     },
     "inputWidgets": {},
     "nuid": "fdb305db-d7ca-4929-b0bf-28e2d2625747",
     "showTitle": false,
     "tableResultSettingsMap": {},
     "title": ""
    }
   },
   "outputs": [
    {
     "output_type": "display_data",
     "data": {
      "text/plain": [
       "Databricks data profile. Run in Databricks to view."
      ]
     },
     "metadata": {
      "application/vnd.databricks.v1.subcommand+json": {
       "baseErrorDetails": null,
       "bindings": {},
       "collapsed": false,
       "command": "%python\nif hasattr(dbutils, \"data\") and hasattr(dbutils.data, \"summarize\"):\n  # setup\n  __data_summary_display_orig = display\n  __data_summary_dfs = []\n  def __data_summary_display_new(df):\n    # add only when result is going to be table type\n    __data_summary_df_modules = [\"pandas.core.frame\", \"databricks.koalas.frame\", \"pyspark.sql.dataframe\", \"pyspark.pandas.frame\", \"pyspark.sql.connect.dataframe\"]\n    if (type(df).__module__ in __data_summary_df_modules and type(df).__name__ == 'DataFrame') or isinstance(df, list):\n      __data_summary_dfs.append(df)\n  display = __data_summary_display_new\n\n  def __data_summary_user_code_fn():\n    import base64\n    exec(base64.standard_b64decode(\"IyBBZGQgT3Bwb3J0dW5pdHlfUHJvZHVjdC5jc3YgdG8gZGYzCmRmMyA9IHNwYXJrLnJlYWQuZm9ybWF0KCdjc3YnKSBcCiAgICAub3B0aW9uKCdoZWFkZXInLCAndHJ1ZScpIFwKICAgIC5vcHRpb24oJ2luZmVyU2NoZW1hJywgJ3RydWUnKSBcCiAgICAubG9hZChmJ3tmaWxlc30vT3Bwb3J0dW5pdHlfUHJvZHVjdC5jc3YnKQoKZGlzcGxheShkZjMp\").decode())\n\n  try:\n    # run user code\n    __data_summary_user_code_fn()\n\n    # run on valid tableResultIndex\n    if len(__data_summary_dfs) > 0:\n      # run summarize\n      if type(__data_summary_dfs[0]).__module__ == \"databricks.koalas.frame\":\n        # koalas dataframe\n        dbutils.data.summarize(__data_summary_dfs[0].to_spark())\n      elif type(__data_summary_dfs[0]).__module__ == \"pandas.core.frame\":\n        # pandas dataframe\n        dbutils.data.summarize(spark.createDataFrame(__data_summary_dfs[0]))\n      else:\n        dbutils.data.summarize(__data_summary_dfs[0])\n    else:\n        displayHTML(\"dataframe no longer exists. If you're using dataframe.display(), use display(dataframe) instead.\")\n\n  finally:\n    display = __data_summary_display_orig\n    del __data_summary_display_new\n    del __data_summary_display_orig\n    del __data_summary_dfs\n    del __data_summary_user_code_fn\nelse:\n  print(\"This DBR version does not support data profiles.\")",
       "commandTitle": "Data Profile 1",
       "commandType": "auto",
       "commandVersion": 0,
       "commentThread": [],
       "commentsVisible": false,
       "contentSha256Hex": null,
       "customPlotOptions": {},
       "datasetPreviewNameToCmdIdMap": {},
       "diffDeletes": [],
       "diffInserts": [],
       "displayType": "table",
       "error": null,
       "errorDetails": null,
       "errorSummary": null,
       "errorTraceType": null,
       "finishTime": 1745384841620,
       "globalVars": {},
       "guid": "",
       "height": "auto",
       "hideCommandCode": false,
       "hideCommandResult": false,
       "iPythonMetadata": null,
       "inputWidgets": {},
       "isLockedInExamMode": false,
       "latestUser": "a user",
       "latestUserId": null,
       "listResultMetadata": [],
       "metadata": {
        "byteLimit": 2048000,
        "rowLimit": 10000
       },
       "nuid": "e0fb290f-3150-4ab8-92c1-5368230d83a3",
       "origId": 0,
       "parentHierarchy": [],
       "pivotAggregation": null,
       "pivotColumns": null,
       "position": 12.0,
       "resultDbfsErrorMessage": null,
       "resultDbfsStatus": "INLINED_IN_TREE",
       "results": null,
       "showCommandTitle": false,
       "startTime": 1745384841144,
       "state": "input",
       "streamStates": {},
       "subcommandOptions": null,
       "submitTime": 1745384841091,
       "subtype": "tableResultSubCmd.dataSummary",
       "tableResultIndex": 0,
       "tableResultSettingsMap": {},
       "useConsistentColors": false,
       "version": "CommandV1",
       "width": "auto",
       "workflows": null,
       "xColumns": null,
       "yColumns": null
      }
     },
     "output_type": "display_data"
    }
   ],
   "source": [
    "# Add Opportunity_Product.csv to df3\n",
    "df3 = spark.read.format('csv') \\\n",
    "    .option('header', 'true') \\\n",
    "    .option('inferSchema', 'true') \\\n",
    "    .load(f'{files}/Opportunity_Product.csv')\n",
    "\n",
    "display(df3)"
   ]
  },
  {
   "cell_type": "code",
   "execution_count": 0,
   "metadata": {
    "application/vnd.databricks.v1+cell": {
     "cellMetadata": {
      "byteLimit": 2048000,
      "rowLimit": 10000
     },
     "inputWidgets": {},
     "nuid": "a0b9a263-3d99-4a16-bb6b-e91b72b0a33b",
     "showTitle": false,
     "tableResultSettingsMap": {},
     "title": ""
    }
   },
   "outputs": [],
   "source": [
    "# Create a Delta Live Table from the DataFrame\n",
    "df3.write.format('delta') \\\n",
    "    .option('mergeSchema', 'true') \\\n",
    "    .option('delta.columnMapping.mode', 'name') \\\n",
    "    .mode('overwrite') \\\n",
    "    .saveAsTable('crm_bronze.dlt_opportunityProduct')"
   ]
  },
  {
   "cell_type": "code",
   "execution_count": 0,
   "metadata": {
    "application/vnd.databricks.v1+cell": {
     "cellMetadata": {
      "byteLimit": 2048000,
      "implicitDf": true,
      "rowLimit": 10000
     },
     "inputWidgets": {},
     "nuid": "58271853-9965-4162-8753-f8c3cca44f02",
     "showTitle": false,
     "tableResultSettingsMap": {},
     "title": ""
    }
   },
   "outputs": [
    {
     "output_type": "display_data",
     "data": {
      "text/plain": [
       "Databricks data profile. Run in Databricks to view."
      ]
     },
     "metadata": {
      "application/vnd.databricks.v1.subcommand+json": {
       "baseErrorDetails": null,
       "bindings": {},
       "collapsed": false,
       "command": "%python\nif hasattr(dbutils, \"data\") and hasattr(dbutils.data, \"summarize\"):\n  dbutils.data.summarize(spark.sql(r\"\"\"select * from crm_bronze.dlt_opportunityProduct limit 100 \"\"\"))\nelse:\n  print(\"This DBR version does not support data profiles.\")\n",
       "commandTitle": "Data Profile 1",
       "commandType": "auto",
       "commandVersion": 0,
       "commentThread": [],
       "commentsVisible": false,
       "contentSha256Hex": null,
       "customPlotOptions": {},
       "datasetPreviewNameToCmdIdMap": {},
       "diffDeletes": [],
       "diffInserts": [],
       "displayType": "table",
       "error": null,
       "errorDetails": null,
       "errorSummary": null,
       "errorTraceType": null,
       "finishTime": 1745384877532,
       "globalVars": {},
       "guid": "",
       "height": "auto",
       "hideCommandCode": false,
       "hideCommandResult": false,
       "iPythonMetadata": null,
       "inputWidgets": {},
       "isLockedInExamMode": false,
       "latestUser": "a user",
       "latestUserId": null,
       "listResultMetadata": [
        [
         "mimeBundle",
         null
        ]
       ],
       "metadata": {
        "byteLimit": 2048000,
        "rowLimit": 10000
       },
       "nuid": "3312e3c0-aef6-4396-84d8-a6d5fe2e53b3",
       "origId": 0,
       "parentHierarchy": [],
       "pivotAggregation": null,
       "pivotColumns": null,
       "position": 13.5,
       "resultDbfsErrorMessage": null,
       "resultDbfsStatus": "INLINED_IN_TREE",
       "results": null,
       "showCommandTitle": false,
       "startTime": 1745384869904,
       "state": "input",
       "streamStates": {},
       "subcommandOptions": null,
       "submitTime": 1745384869867,
       "subtype": "tableResultSubCmd.dataSummary",
       "tableResultIndex": 0,
       "tableResultSettingsMap": {},
       "useConsistentColors": false,
       "version": "CommandV1",
       "width": "auto",
       "workflows": null,
       "xColumns": null,
       "yColumns": null
      }
     },
     "output_type": "display_data"
    }
   ],
   "source": [
    "%sql select * from crm_bronze.dlt_opportunityProduct limit 100;"
   ]
  },
  {
   "cell_type": "code",
   "execution_count": 0,
   "metadata": {
    "application/vnd.databricks.v1+cell": {
     "cellMetadata": {
      "byteLimit": 2048000,
      "rowLimit": 10000
     },
     "inputWidgets": {},
     "nuid": "5d96f818-efd7-42a1-a7c2-ae5630b72f66",
     "showTitle": false,
     "tableResultSettingsMap": {},
     "title": ""
    }
   },
   "outputs": [],
   "source": [
    "# Add column descriptions to dlt_opportunityProduct\n",
    "column_descriptions = {\n",
    "    \"Created By ID\": \"Unique identifier of the user who created the record\",\n",
    "    \"Created Date\": \"Date and time when the record was created\",\n",
    "    \"Date\": \"Date associated with the record\",\n",
    "    \"Deleted\": \"Indicates if the record is deleted\",\n",
    "    \"Last Modified By ID\": \"Unique identifier of the user who last modified the record\",\n",
    "    \"Last Modified Date\": \"Date and time when the record was last modified\",\n",
    "    \"Last Referenced Date\": \"Date when the record was last referenced\",\n",
    "    \"Last Viewed Date\": \"Date when the record was last viewed\",\n",
    "    \"Line Description\": \"Description associated with the line item\",\n",
    "    \"Line Item ID\": \"Unique identifier for each line item\",\n",
    "    \"Opportunity ID\": \"Unique identifier for each opportunity\",\n",
    "    \"Product Name\": \"Name of the product associated with the line item\",\n",
    "    \"Price Book Entry ID\": \"Identifier of the associated price book entry\",\n",
    "    \"Product Code\": \"Code associated with the product\",\n",
    "    \"Product ID\": \"Unique identifier for each product\",\n",
    "    \"System Modstamp\": \"Date and time of the last system modification for the record\",\n",
    "    \"Discount\": \"Discount applied to the line item\",\n",
    "    \"List Price\": \"List price of the product\",\n",
    "    \"Quantity\": \"Quantity of the product in the line item\",\n",
    "    \"Sales Price\": \"Price at which the product is sold\",\n",
    "    \"Sort Order\": \"Order in which the line item is sorted\",\n",
    "    \"Subtotal\": \"Subtotal amount for the line item\",\n",
    "    \"Total Price\": \"Total price of the line item\"\n",
    "}\n",
    "\n",
    "for column, description in column_descriptions.items():\n",
    "    spark.sql(f\"ALTER TABLE crm_bronze.dlt_opportunityProduct CHANGE COLUMN `{column}` COMMENT '{description}'\")"
   ]
  },
  {
   "cell_type": "code",
   "execution_count": 0,
   "metadata": {
    "application/vnd.databricks.v1+cell": {
     "cellMetadata": {
      "byteLimit": 2048000,
      "rowLimit": 10000
     },
     "collapsed": true,
     "inputWidgets": {},
     "nuid": "033390c4-ce58-4de7-8a6e-e54390f4913a",
     "showTitle": false,
     "tableResultSettingsMap": {},
     "title": ""
    }
   },
   "outputs": [
    {
     "output_type": "display_data",
     "data": {
      "text/plain": [
       "Databricks data profile. Run in Databricks to view."
      ]
     },
     "metadata": {
      "application/vnd.databricks.v1.subcommand+json": {
       "baseErrorDetails": null,
       "bindings": {},
       "collapsed": false,
       "command": "%python\nif hasattr(dbutils, \"data\") and hasattr(dbutils.data, \"summarize\"):\n  # setup\n  __data_summary_display_orig = display\n  __data_summary_dfs = []\n  def __data_summary_display_new(df):\n    # add only when result is going to be table type\n    __data_summary_df_modules = [\"pandas.core.frame\", \"databricks.koalas.frame\", \"pyspark.sql.dataframe\", \"pyspark.pandas.frame\", \"pyspark.sql.connect.dataframe\"]\n    if (type(df).__module__ in __data_summary_df_modules and type(df).__name__ == 'DataFrame') or isinstance(df, list):\n      __data_summary_dfs.append(df)\n  display = __data_summary_display_new\n\n  def __data_summary_user_code_fn():\n    import base64\n    exec(base64.standard_b64decode(\"IyBBZGQgVXNlcl9UYWJsZS5jc3YgdG8gZGY0CmRmNCA9IHNwYXJrLnJlYWQuZm9ybWF0KCdjc3YnKSBcCiAgICAub3B0aW9uKCdoZWFkZXInLCAndHJ1ZScpIFwKICAgIC5vcHRpb24oJ2luZmVyU2NoZW1hJywgJ3RydWUnKSBcCiAgICAubG9hZChmJ3tmaWxlc30vVXNlcl9UYWJsZS5jc3YnKQoKZGlzcGxheShkZjQp\").decode())\n\n  try:\n    # run user code\n    __data_summary_user_code_fn()\n\n    # run on valid tableResultIndex\n    if len(__data_summary_dfs) > 0:\n      # run summarize\n      if type(__data_summary_dfs[0]).__module__ == \"databricks.koalas.frame\":\n        # koalas dataframe\n        dbutils.data.summarize(__data_summary_dfs[0].to_spark())\n      elif type(__data_summary_dfs[0]).__module__ == \"pandas.core.frame\":\n        # pandas dataframe\n        dbutils.data.summarize(spark.createDataFrame(__data_summary_dfs[0]))\n      else:\n        dbutils.data.summarize(__data_summary_dfs[0])\n    else:\n        displayHTML(\"dataframe no longer exists. If you're using dataframe.display(), use display(dataframe) instead.\")\n\n  finally:\n    display = __data_summary_display_orig\n    del __data_summary_display_new\n    del __data_summary_display_orig\n    del __data_summary_dfs\n    del __data_summary_user_code_fn\nelse:\n  print(\"This DBR version does not support data profiles.\")",
       "commandTitle": "Data Profile 1",
       "commandType": "auto",
       "commandVersion": 0,
       "commentThread": [],
       "commentsVisible": false,
       "contentSha256Hex": null,
       "customPlotOptions": {},
       "datasetPreviewNameToCmdIdMap": {},
       "diffDeletes": [],
       "diffInserts": [],
       "displayType": "table",
       "error": null,
       "errorDetails": null,
       "errorSummary": null,
       "errorTraceType": null,
       "finishTime": 1745283493977,
       "globalVars": {},
       "guid": "",
       "height": "auto",
       "hideCommandCode": false,
       "hideCommandResult": false,
       "iPythonMetadata": null,
       "inputWidgets": {},
       "isLockedInExamMode": false,
       "latestUser": "a user",
       "latestUserId": null,
       "listResultMetadata": [
        [
         "mimeBundle",
         null
        ]
       ],
       "metadata": {
        "byteLimit": 2048000,
        "rowLimit": 10000
       },
       "nuid": "6b35ece5-8f23-4912-b0bf-1b37c997a57e",
       "origId": 0,
       "parentHierarchy": [],
       "pivotAggregation": null,
       "pivotColumns": null,
       "position": 15.0,
       "resultDbfsErrorMessage": null,
       "resultDbfsStatus": "INLINED_IN_TREE",
       "results": null,
       "showCommandTitle": false,
       "startTime": 1745283486372,
       "state": "input",
       "streamStates": {},
       "subcommandOptions": null,
       "submitTime": 1745283486289,
       "subtype": "tableResultSubCmd.dataSummary",
       "tableResultIndex": 0,
       "tableResultSettingsMap": {},
       "useConsistentColors": false,
       "version": "CommandV1",
       "width": "auto",
       "workflows": null,
       "xColumns": null,
       "yColumns": null
      }
     },
     "output_type": "display_data"
    }
   ],
   "source": [
    "# Add User_Table.csv to df4\n",
    "df4 = spark.read.format('csv') \\\n",
    "    .option('header', 'true') \\\n",
    "    .option('inferSchema', 'true') \\\n",
    "    .load(f'{files}/User_Table.csv')\n",
    "\n",
    "display(df4)"
   ]
  },
  {
   "cell_type": "code",
   "execution_count": 0,
   "metadata": {
    "application/vnd.databricks.v1+cell": {
     "cellMetadata": {
      "byteLimit": 2048000,
      "rowLimit": 10000
     },
     "inputWidgets": {},
     "nuid": "62490e12-7b65-4a1a-b0e7-ca68ad6326d4",
     "showTitle": false,
     "tableResultSettingsMap": {},
     "title": ""
    }
   },
   "outputs": [],
   "source": [
    "# Create a Delta Live Table from the DataFrame\n",
    "df4.write.format('delta') \\\n",
    "    .option('mergeSchema', 'true') \\\n",
    "    .option('delta.columnMapping.mode', 'name') \\\n",
    "    .mode('overwrite') \\\n",
    "    .saveAsTable('crm_bronze.dlt_userTable')"
   ]
  },
  {
   "cell_type": "code",
   "execution_count": 0,
   "metadata": {
    "application/vnd.databricks.v1+cell": {
     "cellMetadata": {
      "byteLimit": 2048000,
      "implicitDf": true,
      "rowLimit": 10000
     },
     "inputWidgets": {},
     "nuid": "e21f394a-d347-4f9b-a0d1-97527f0d9ca4",
     "showTitle": false,
     "tableResultSettingsMap": {},
     "title": ""
    }
   },
   "outputs": [
    {
     "output_type": "display_data",
     "data": {
      "text/plain": [
       "Databricks data profile. Run in Databricks to view."
      ]
     },
     "metadata": {
      "application/vnd.databricks.v1.subcommand+json": {
       "baseErrorDetails": null,
       "bindings": {},
       "collapsed": false,
       "command": "%python\nif hasattr(dbutils, \"data\") and hasattr(dbutils.data, \"summarize\"):\n  dbutils.data.summarize(spark.sql(r\"\"\"select * from crm_bronze.dlt_userTable limit 100 \"\"\"))\nelse:\n  print(\"This DBR version does not support data profiles.\")\n",
       "commandTitle": "Data Profile 1",
       "commandType": "auto",
       "commandVersion": 0,
       "commentThread": [],
       "commentsVisible": false,
       "contentSha256Hex": null,
       "customPlotOptions": {},
       "datasetPreviewNameToCmdIdMap": {},
       "diffDeletes": [],
       "diffInserts": [],
       "displayType": "table",
       "error": null,
       "errorDetails": null,
       "errorSummary": null,
       "errorTraceType": null,
       "finishTime": 1745284518847,
       "globalVars": {},
       "guid": "",
       "height": "auto",
       "hideCommandCode": false,
       "hideCommandResult": false,
       "iPythonMetadata": null,
       "inputWidgets": {},
       "isLockedInExamMode": false,
       "latestUser": "a user",
       "latestUserId": null,
       "listResultMetadata": [
        [
         "mimeBundle",
         null
        ]
       ],
       "metadata": {
        "byteLimit": 2048000,
        "rowLimit": 10000
       },
       "nuid": "a823d2f6-9409-45f4-98fc-5c4e38f411ea",
       "origId": 0,
       "parentHierarchy": [],
       "pivotAggregation": null,
       "pivotColumns": null,
       "position": 17.0,
       "resultDbfsErrorMessage": null,
       "resultDbfsStatus": "INLINED_IN_TREE",
       "results": null,
       "showCommandTitle": false,
       "startTime": 1745284511249,
       "state": "input",
       "streamStates": {},
       "subcommandOptions": null,
       "submitTime": 1745284511179,
       "subtype": "tableResultSubCmd.dataSummary",
       "tableResultIndex": 0,
       "tableResultSettingsMap": {},
       "useConsistentColors": false,
       "version": "CommandV1",
       "width": "auto",
       "workflows": null,
       "xColumns": null,
       "yColumns": null
      }
     },
     "output_type": "display_data"
    }
   ],
   "source": [
    "%sql select * from crm_bronze.dlt_userTable limit 100;"
   ]
  },
  {
   "cell_type": "code",
   "execution_count": 0,
   "metadata": {
    "application/vnd.databricks.v1+cell": {
     "cellMetadata": {
      "byteLimit": 2048000,
      "rowLimit": 10000
     },
     "inputWidgets": {},
     "nuid": "6840008d-e6dc-446a-89bd-3d2138528ab8",
     "showTitle": false,
     "tableResultSettingsMap": {},
     "title": ""
    }
   },
   "outputs": [],
   "source": [
    "%python\n",
    "# Add column descriptions to dlt_userTable\n",
    "column_descriptions = {\n",
    "    \"Active\": \"Indicates whether the user is active\",\n",
    "    \"Activity Reminders Popup\": \"Enables activity reminders popup for the user\",\n",
    "    \"Admin Info Emails\": \"Receives admin information emails\",\n",
    "    \"Allow Forecasting\": \"Permission to use forecasting\",\n",
    "    \"Apex Pages Developer Mode\": \"Developer mode for Apex pages\",\n",
    "    \"Auto Bcc\": \"Automatically includes the user in Bcc\",\n",
    "    \"Auto Bcc Stay In Touch\": \"Auto Bcc for Stay In Touch emails\",\n",
    "    \"Auto-login To Call Center\": \"Automatically logs in to the Call Center\",\n",
    "    \"Cache Diagnostics\": \"Diagnostics for cache\",\n",
    "    \"Call Center ID\": \"ID of the associated Call Center\",\n",
    "    \"Can View Not Assigned Prospects\": \"Can view prospects not assigned to them\",\n",
    "    \"Chatter Answers User\": \"Chatter Answers user\",\n",
    "    \"Chatter Email Highlights Frequency\": \"Frequency of Chatter email highlights\",\n",
    "    \"City\": \"City of the user\",\n",
    "    \"Country\": \"Country of the user\",\n",
    "    \"Create LEX Apps WT Shown\": \"Work together shown in Lightning Experience Apps\",\n",
    "    \"Created By ID\": \"Unique identifier of the user who created the record\",\n",
    "    \"Created Date\": \"Date and time when the record was created\",\n",
    "    \"Default Notification Frequency when Joining Groups\": \"Default notification frequency when joining groups\",\n",
    "    \"Delegated Approver ID\": \"ID of the delegated approver\",\n",
    "    \"Department\": \"Department of the user\",\n",
    "    \"Dis Comment After Like Email\": \"Disable comment after like email notification\",\n",
    "    \"Dis Mentions Comment Email\": \"Disable mentions comment email notification\",\n",
    "    \"Dis Prof Post Comment Email\": \"Disable profile post comment email notification\",\n",
    "    \"Disable All Feeds Email\": \"Disable all feeds email notification\",\n",
    "    \"Disable Bookmark Email\": \"Disable bookmark email notification\",\n",
    "    \"Disable Change Comment Email\": \"Disable change comment email notification\",\n",
    "    \"Disable Endorsement Email\": \"Disable endorsement email notification\",\n",
    "    \"Disable File Share Notifications For Api\": \"Disable file share notifications for API\",\n",
    "    \"Disable Followers Email\": \"Disable followers email notification\",\n",
    "    \"Disable Later Comment Email\": \"Disable later comment email notification\",\n",
    "    \"Disable Like Email\": \"Disable like email notification\",\n",
    "    \"Disable Mentions Post Email\": \"Disable mentions post email notification\",\n",
    "    \"Disable Message Email\": \"Disable message email notification\",\n",
    "    \"Disable Profile Post Email\": \"Disable profile post email notification\",\n",
    "    \"Disable Share Post Email\": \"Disable share post email notification\",\n",
    "    \"Enable Auto Sub For Feeds\": \"Enable auto subscribe for feeds\",\n",
    "    \"Event Reminders Checkbox Default\": \"Default for event reminders checkbox\",\n",
    "    \"Exclude Mail App Attachments\": \"Exclude mail app attachments\",\n",
    "    \"Extension\": \"Extension of the user\",\n",
    "    \"Favorites Show Top Favorites\": \"Show top favorites in favorites\",\n",
    "    \"Favorites WT Shown\": \"Work together shown in favorites\",\n",
    "    \"Flow User\": \"User with flow access\",\n",
    "    \"Full Name\": \"Full name of the user\",\n",
    "    \"Geocode Accuracy\": \"Accuracy of the geocode\",\n",
    "    \"Global Nav Bar WT Shown\": \"Work together shown in global navigation bar\",\n",
    "    \"Global Nav Grid Menu WT Shown\": \"Work together shown in global navigation grid menu\",\n",
    "    \"Has Celebration Badge\": \"Indicates whether the user has a celebration badge\",\n",
    "    \"Has Profile Photo\": \"Indicates whether the user has a profile photo\",\n",
    "    \"Hide Bigger Photo Callout\": \"Hide bigger photo callout\",\n",
    "    \"Hide Browse Product Redirect Confirmation\": \"Hide browse product redirect confirmation\",\n",
    "    \"Hide Chatter Onboarding Splash\": \"Hide Chatter onboarding splash\",\n",
    "    \"Hide CSN Desktop Task\": \"Hide CSN desktop task\",\n",
    "    \"Hide CSN Get Chatter Mobile Task\": \"Hide CSN get Chatter mobile task\",\n",
    "    \"Hide End User Onboarding Assistant Modal\": \"Hide end user onboarding assistant modal\",\n",
    "    \"Hide Invoices Redirect Confirmation\": \"Hide invoices redirect confirmation\",\n",
    "    \"Hide Lightning Migration Modal\": \"Hide Lightning migration modal\",\n",
    "    \"Hide Online Sales App Welcome Mat\": \"Hide online sales app welcome mat\",\n",
    "    \"Hide Second Chatter Onboarding Splash\": \"Hide second Chatter onboarding splash\",\n",
    "    \"Hide Sfx Welcome Mat\": \"Hide Sfx welcome mat\",\n",
    "    \"Hide Statements Redirect Confirmation\": \"Hide statements redirect confirmation\",\n",
    "    \"HideS1BrowserUI\": \"Hide S1 browser UI\",\n",
    "    \"Individual ID\": \"Unique identifier of the individual\",\n",
    "    \"Info Emails\": \"Receives informational emails\",\n",
    "    \"Is Approver\": \"Indicates whether the user is an approver\",\n",
    "    \"Language\": \"Language preference of the user\",\n",
    "    \"Last Login\": \"Date and time of the last login\",\n",
    "    \"Last Modified By ID\": \"Unique identifier of the user who last modified the record\",\n",
    "    \"Last Modified Date\": \"Date and time when the record was last modified\",\n",
    "    \"Last Name\": \"Last name of the user\",\n",
    "    \"Last Referenced Date\": \"Date when the record was last referenced\",\n",
    "    \"Last Viewed Date\": \"Date when the record was last viewed\",\n",
    "    \"Lightning Experience Preferred\": \"Indicates whether Lightning Experience is preferred\",\n",
    "    \"Locale\": \"Locale preference of the user\",\n",
    "    \"Manage Escalated Assets\": \"Manages escalated assets\",\n",
    "    \"Manager ID\": \"Unique identifier of the users manager\",\n",
    "    \"Marketing User\": \"Indicates whether the user is a marketing user\",\n",
    "    \"Native Email Client\": \"Uses the native email client\",\n",
    "    \"NetSuite User ID\": \"User ID in NetSuite\",\n",
    "    \"New Lightning Report Run Page Enabled\": \"Enable new Lightning report run page\",\n",
    "    \"Nickname\": \"Nickname of the user\",\n",
    "    \"Offline Edition Trial Expiration Date\": \"Expiration date of the offline edition trial\",\n",
    "    \"Offline User\": \"Indicates whether the user is an offline user\",\n",
    "    \"Out of office message\": \"Out of office message\",\n",
    "    \"Pardot Api Key\": \"API key for Pardot\",\n",
    "    \"Pardot Api Version\": \"API version for Pardot\",\n",
    "    \"Pardot User Id\": \"User ID in Pardot\",\n",
    "    \"Pardot User Key\": \"User key in Pardot\",\n",
    "    \"Path Assistant Collapsed\": \"Path assistant collapsed\",\n",
    "    \"Preview Custom Theme\": \"Preview custom theme\",\n",
    "    \"Preview Lightning\": \"Preview Lightning\",\n",
    "    \"Profile ID\": \"Unique identifier of the users profile\",\n",
    "    \"Receive No Notifications As Approver\": \"Does not receive notifications as an approver\",\n",
    "    \"Receive Notifications As Delegated Approver\": \"Receives notifications as a delegated approver\",\n",
    "    \"Record Home Reserved WT Shown\": \"Work together shown in record home reserved\",\n",
    "    \"Record Home Section Collapse WT Shown\": \"Work together shown in record home section collapse\",\n",
    "    \"Reminder Sound Off\": \"Sound for reminders\"\n",
    "}\n",
    "\n",
    "for column, description in column_descriptions.items():\n",
    "    try:\n",
    "        spark.sql(f\"ALTER TABLE crm_bronze.dlt_userTable CHANGE COLUMN `{column}` COMMENT '{description}'\")\n",
    "    except Exception as e:\n",
    "        print(f\"Error with column {column}: {e}\")"
   ]
  }
 ],
 "metadata": {
  "application/vnd.databricks.v1+notebook": {
   "computePreferences": null,
   "dashboards": [],
   "environmentMetadata": {
    "base_environment": "",
    "environment_version": "2"
   },
   "inputWidgetPreferences": null,
   "language": "python",
   "notebookMetadata": {
    "mostRecentlyExecutedCommandWithImplicitDF": {
     "commandId": 5159930366492470,
     "dataframes": [
      "_sqldf"
     ]
    },
    "pythonIndentUnit": 4
   },
   "notebookName": "CRM Raw files to Bronze",
   "widgets": {}
  },
  "language_info": {
   "name": "python"
  }
 },
 "nbformat": 4,
 "nbformat_minor": 0
}
